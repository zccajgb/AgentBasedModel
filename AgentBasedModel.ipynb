{
 "cells": [
  {
   "cell_type": "markdown",
   "metadata": {},
   "source": [
    "# Agent Based Modelling\n",
    "\n",
    "### Input Data\n",
    "\n"
   ]
  },
  {
   "cell_type": "code",
   "execution_count": null,
   "metadata": {},
   "outputs": [],
   "source": [
    "dimension = 1000 ## the size of the simulation area in nm\n",
    "binding_energy = 5 # in kT\n",
    "number_of_nanoparticles=190\n",
    "number_of_ligands=100\n",
    "nanoparticle_radius=50\n",
    "ligand_length=7\n",
    "number_of_receptors=1000\n",
    "receptor_length=100\n",
    "steps=3600"
   ]
  },
  {
   "cell_type": "markdown",
   "metadata": {},
   "source": [
    "### Run"
   ]
  },
  {
   "cell_type": "code",
   "execution_count": null,
   "metadata": {},
   "outputs": [],
   "source": [
    "from Master import Master\n",
    "\n",
    " \n",
    "model = Master(dimension, binding_energy)\n",
    "model.create_nanoparticles_and_ligands(number_of_nanoparticles, number_of_ligands, nanoparticle_radius, ligand_length)  # 1-2 nm for ligand  # 95 particles\n",
    "model.create_receptors(number_of_receptors, receptor_length)  # 100 nm for receptor\n",
    "model.run(steps)  # 3600 for 1 hour\n",
    "        "
   ]
  },
  {
   "cell_type": "code",
   "execution_count": null,
   "metadata": {},
   "outputs": [],
   "source": [
    "print(f'There were {model.count} reactions')\n",
    "plt.subplot()\n",
    "plt.title(f'{model.dimension} nm\\u00b3 system, {model.binding_energy} binding energy\\n'\n",
    "            f'{model.number_of_nanoparticles} Nanoparticles, {mmodel.number_of_ligands} Ligands, {model.ligand_length} nm Ligand length \\n'\n",
    "            f'{model.number_of_receptors} Receptors, {model.receptor_length} nm Receptor length')\n",
    "plt.xlabel('Time (Seconds)')\n",
    "plt.ylabel('Surface Coverage')\n",
    "plt.plot(list(range(0, model.time+1)), model.coverage, label=f'Nanoparticle radius {model.nanoparticle_radius} nm')\n",
    "\n",
    "leg = plt.legend(loc='best', ncol=2)\n",
    "leg.get_frame().set_alpha(0.5)\n",
    "plt.show()"
   ]
  }
 ],
 "metadata": {
  "kernelspec": {
   "display_name": "Python 3",
   "language": "python",
   "name": "python3"
  },
  "language_info": {
   "codemirror_mode": {
    "name": "ipython",
    "version": 3
   },
   "file_extension": ".py",
   "mimetype": "text/x-python",
   "name": "python",
   "nbconvert_exporter": "python",
   "pygments_lexer": "ipython3",
   "version": "3.7.4"
  }
 },
 "nbformat": 4,
 "nbformat_minor": 2
}