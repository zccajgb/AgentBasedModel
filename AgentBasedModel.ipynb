{
 "cells": [
  {
   "cell_type": "markdown",
   "metadata": {},
   "source": [
    "# Agent Based Modelling\n",
    "\n",
    "### Input Data\n",
    "\n"
   ]
  },
  {
   "cell_type": "code",
   "execution_count": 10,
   "metadata": {},
   "outputs": [],
   "source": [
    "dimension = 1000 ## the size of the simulation area in nm\n",
    "binding_energy = 5 # in kT\n",
    "number_of_nanoparticles=190\n",
    "number_of_ligands=100\n",
    "nanoparticle_radius=50\n",
    "ligand_length=7\n",
    "number_of_receptors=1000\n",
    "receptor_length=100\n",
    "number_of_seconds=10e-3\n",
    "time_step=10e-3\n",
    "binding_distance=4"
   ]
  },
  {
   "cell_type": "markdown",
   "metadata": {},
   "source": [
    "### Run"
   ]
  },
  {
   "cell_type": "code",
   "execution_count": 12,
   "metadata": {},
   "outputs": [
    {
     "output_type": "stream",
     "name": "stdout",
     "text": "There are 0 nanoparticles bound to the surface\nThere are 0 receptors bound to nanoparticles\n"
    }
   ],
   "source": [
    "from Master import Master\n",
    "\n",
    " \n",
    "\n",
    "model = Master(dimension, binding_energy, time_step, number_of_receptors, receptor_length,\n",
    "                 number_of_nanoparticles, nanoparticle_radius, number_of_ligands, ligand_length, binding_distance)\n",
    "model.create_receptors()  # 100 nm for receptor\n",
    "model.create_nanoparticles_and_ligands()  # 1-2 nm for ligand  # 95 particles\n",
    "\n",
    "model.run(int(time_step*number_of_seconds))  # 3600 for 1 hour\n"
   ]
  },
  {
   "cell_type": "code",
   "execution_count": 14,
   "metadata": {},
   "outputs": [
    {
     "output_type": "stream",
     "name": "stdout",
     "text": "There were 0 reactions\n"
    },
    {
     "output_type": "error",
     "ename": "NameError",
     "evalue": "name 'mmodel' is not defined",
     "traceback": [
      "\u001b[1;31m---------------------------------------------------------------------------\u001b[0m",
      "\u001b[1;31mNameError\u001b[0m                                 Traceback (most recent call last)",
      "\u001b[1;32m<ipython-input-14-2564da542293>\u001b[0m in \u001b[0;36m<module>\u001b[1;34m\u001b[0m\n\u001b[0;32m      2\u001b[0m \u001b[0mprint\u001b[0m\u001b[1;33m(\u001b[0m\u001b[1;34mf'There were {model.count} reactions'\u001b[0m\u001b[1;33m)\u001b[0m\u001b[1;33m\u001b[0m\u001b[1;33m\u001b[0m\u001b[0m\n\u001b[0;32m      3\u001b[0m \u001b[0mplt\u001b[0m\u001b[1;33m.\u001b[0m\u001b[0msubplot\u001b[0m\u001b[1;33m(\u001b[0m\u001b[1;33m)\u001b[0m\u001b[1;33m\u001b[0m\u001b[1;33m\u001b[0m\u001b[0m\n\u001b[1;32m----> 4\u001b[1;33m plt.title(f'{model.dimension} nm\\u00b3 system, {model.binding_energy} binding energy\\n'\n\u001b[0m\u001b[0;32m      5\u001b[0m             \u001b[1;34mf'{model.number_of_nanoparticles} Nanoparticles, {mmodel.number_of_ligands} Ligands, {model.ligand_length} nm Ligand length \\n'\u001b[0m\u001b[1;33m\u001b[0m\u001b[1;33m\u001b[0m\u001b[0m\n\u001b[0;32m      6\u001b[0m             f'{model.number_of_receptors} Receptors, {model.receptor_length} nm Receptor length')\n",
      "\u001b[1;31mNameError\u001b[0m: name 'mmodel' is not defined"
     ]
    }
   ],
   "source": [
    "import matplotlib.pyplot as plt\n",
    "\n",
    "print(f'There were {model.count} reactions')\n",
    "plt.subplot()\n",
    "plt.title(f'{model.dimension} nm\\u00b3 system, {model.binding_energy} binding energy\\n'\n",
    "            f'{model.number_of_nanoparticles} Nanoparticles, {model.number_of_ligands} Ligands, {model.ligand_length} nm Ligand length \\n'\n",
    "            f'{model.number_of_receptors} Receptors, {model.receptor_length} nm Receptor length')\n",
    "plt.xlabel('Time (Seconds)')\n",
    "plt.ylabel('Surface Coverage')\n",
    "plt.plot(list(range(0, model.time+1)), model.coverage, label=f'Nanoparticle radius {model.nanoparticle_radius} nm')\n",
    "\n",
    "leg = plt.legend(loc='best', ncol=2)\n",
    "leg.get_frame().set_alpha(0.5)\n",
    "plt.show()"
   ]
  },
  {
   "cell_type": "code",
   "execution_count": null,
   "metadata": {},
   "outputs": [],
   "source": []
  }
 ],
 "metadata": {
  "kernelspec": {
   "display_name": "Python 3",
   "language": "python",
   "name": "python3"
  },
  "language_info": {
   "codemirror_mode": {
    "name": "ipython",
    "version": 3
   },
   "file_extension": ".py",
   "mimetype": "text/x-python",
   "name": "python",
   "nbconvert_exporter": "python",
   "pygments_lexer": "ipython3",
   "version": "3.8.1-final"
  }
 },
 "nbformat": 4,
 "nbformat_minor": 2
}